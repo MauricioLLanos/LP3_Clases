{
 "cells": [
  {
   "cell_type": "markdown",
   "id": "11a22295",
   "metadata": {},
   "source": [
    "# SEMANA 03 \n",
    "Mauricio LLanos Rojas"
   ]
  },
  {
   "cell_type": "code",
   "execution_count": 2,
   "id": "891b370f",
   "metadata": {},
   "outputs": [
    {
     "data": {
      "text/plain": [
       "'Universidad Nacional Tecnologica de Lima Sur'"
      ]
     },
     "execution_count": 2,
     "metadata": {},
     "output_type": "execute_result"
    }
   ],
   "source": [
    "cadena = \"Universidad Nacional Tecnologica de Lima Sur\"\n",
    "cadena"
   ]
  },
  {
   "cell_type": "code",
   "execution_count": 3,
   "id": "61e8e18c",
   "metadata": {},
   "outputs": [],
   "source": [
    "#Universidad Nacional Tecnologica de Lima Sur\n",
    "#1234.....................................-2-1"
   ]
  },
  {
   "cell_type": "code",
   "execution_count": 4,
   "id": "73d73588",
   "metadata": {},
   "outputs": [
    {
     "data": {
      "text/plain": [
       "'r'"
      ]
     },
     "execution_count": 4,
     "metadata": {},
     "output_type": "execute_result"
    }
   ],
   "source": [
    "cadena[5]"
   ]
  },
  {
   "cell_type": "code",
   "execution_count": 5,
   "id": "fbd0a5c2",
   "metadata": {},
   "outputs": [
    {
     "data": {
      "text/plain": [
       "'d'"
      ]
     },
     "execution_count": 5,
     "metadata": {},
     "output_type": "execute_result"
    }
   ],
   "source": [
    "cadena[10]"
   ]
  },
  {
   "cell_type": "code",
   "execution_count": 7,
   "id": "12e20b92",
   "metadata": {},
   "outputs": [
    {
     "data": {
      "text/plain": [
       "' '"
      ]
     },
     "execution_count": 7,
     "metadata": {},
     "output_type": "execute_result"
    }
   ],
   "source": [
    "#Considera los espacios en blanco\n",
    "cadena [11]"
   ]
  },
  {
   "cell_type": "code",
   "execution_count": 8,
   "id": "62ae6cd3",
   "metadata": {},
   "outputs": [
    {
     "data": {
      "text/plain": [
       "'a'"
      ]
     },
     "execution_count": 8,
     "metadata": {},
     "output_type": "execute_result"
    }
   ],
   "source": [
    "#¿Que me mostrará ?\n",
    "cadena[-5]"
   ]
  },
  {
   "cell_type": "code",
   "execution_count": 9,
   "id": "c86bb6d4",
   "metadata": {},
   "outputs": [
    {
     "data": {
      "text/plain": [
       "'T'"
      ]
     },
     "execution_count": 9,
     "metadata": {},
     "output_type": "execute_result"
    }
   ],
   "source": [
    "cadena[21]"
   ]
  },
  {
   "cell_type": "code",
   "execution_count": 10,
   "id": "728e536a",
   "metadata": {},
   "outputs": [
    {
     "data": {
      "text/plain": [
       "'T'"
      ]
     },
     "execution_count": 10,
     "metadata": {},
     "output_type": "execute_result"
    }
   ],
   "source": [
    "cadena[-23]"
   ]
  },
  {
   "cell_type": "code",
   "execution_count": 11,
   "id": "da761000",
   "metadata": {},
   "outputs": [
    {
     "data": {
      "text/plain": [
       "'versi'"
      ]
     },
     "execution_count": 11,
     "metadata": {},
     "output_type": "execute_result"
    }
   ],
   "source": [
    "#Para mostrar una subcadena[desde, hasta una antes]\n",
    "#En java era substring()\n",
    "cadena[3:8]"
   ]
  },
  {
   "cell_type": "code",
   "execution_count": 12,
   "id": "bf14dd10",
   "metadata": {},
   "outputs": [
    {
     "data": {
      "text/plain": [
       "44"
      ]
     },
     "execution_count": 12,
     "metadata": {},
     "output_type": "execute_result"
    }
   ],
   "source": [
    "#Para saber el tamaño de la cadena utilizamos len()\n",
    "#incluye los espacios en blanco\n",
    "len(cadena)"
   ]
  },
  {
   "cell_type": "code",
   "execution_count": 13,
   "id": "c5bba7a3",
   "metadata": {},
   "outputs": [
    {
     "data": {
      "text/plain": [
       "'UNIVERSIDAD NACIONAL TECNOLOGICA DE LIMA SUR'"
      ]
     },
     "execution_count": 13,
     "metadata": {},
     "output_type": "execute_result"
    }
   ],
   "source": [
    "#Para mostrar una cadena en mayuscula utilizamos upper()\n",
    "cadena.upper()"
   ]
  },
  {
   "cell_type": "code",
   "execution_count": 14,
   "id": "7259790c",
   "metadata": {},
   "outputs": [
    {
     "data": {
      "text/plain": [
       "'Universidad Nacional Tecnologica de Lima Sur'"
      ]
     },
     "execution_count": 14,
     "metadata": {},
     "output_type": "execute_result"
    }
   ],
   "source": [
    "#Ojo ... solo lo muestra porque el original se mantiene\n",
    "cadena"
   ]
  },
  {
   "cell_type": "code",
   "execution_count": 15,
   "id": "7466d360",
   "metadata": {},
   "outputs": [],
   "source": [
    "#Si deseamos cambiarlo hariamos: cadena = cadena.upper()\n",
    "cadena = cadena.upper()"
   ]
  },
  {
   "cell_type": "code",
   "execution_count": 16,
   "id": "f5a4058f",
   "metadata": {},
   "outputs": [
    {
     "data": {
      "text/plain": [
       "'UNIVERSIDAD NACIONAL TECNOLOGICA DE LIMA SUR'"
      ]
     },
     "execution_count": 16,
     "metadata": {},
     "output_type": "execute_result"
    }
   ],
   "source": [
    "cadena "
   ]
  },
  {
   "cell_type": "code",
   "execution_count": 17,
   "id": "55f50151",
   "metadata": {},
   "outputs": [
    {
     "data": {
      "text/plain": [
       "'universidad nacional tecnologica de lima sur'"
      ]
     },
     "execution_count": 17,
     "metadata": {},
     "output_type": "execute_result"
    }
   ],
   "source": [
    "#Para mostrar una cadena en minuscula utilizamos lower()\n",
    "cadena.lower()"
   ]
  },
  {
   "cell_type": "code",
   "execution_count": 18,
   "id": "b465883d",
   "metadata": {},
   "outputs": [
    {
     "data": {
      "text/plain": [
       "['UNIVERSIDAD', 'NACIONAL', 'TECNOLOGICA', 'DE', 'LIMA', 'SUR']"
      ]
     },
     "execution_count": 18,
     "metadata": {},
     "output_type": "execute_result"
    }
   ],
   "source": [
    "#una lista utilizando un criterio de separacion a partir de una cadena. split()\n",
    "cadena.split()"
   ]
  },
  {
   "cell_type": "code",
   "execution_count": 21,
   "id": "42d28f06",
   "metadata": {},
   "outputs": [
    {
     "data": {
      "text/plain": [
       "['UNIVERSIDAD NACI', 'NAL TECN', 'L', 'GICA DE LIMA SUR']"
      ]
     },
     "execution_count": 21,
     "metadata": {},
     "output_type": "execute_result"
    }
   ],
   "source": [
    "#una lista utilizando un criterio de separacion a partir de una cadena. split()\n",
    "#y vamos a generar una lista donde en toda la cadena se omite la o\n",
    "cadena.split(\"O\")"
   ]
  },
  {
   "cell_type": "code",
   "execution_count": 22,
   "id": "d6416091",
   "metadata": {},
   "outputs": [
    {
     "name": "stdout",
     "output_type": "stream",
     "text": [
      "Buenas TardesMauricio LLanos\n"
     ]
    }
   ],
   "source": [
    "#Forma clasica, concatenar con +\n",
    "nombre = \"Mauricio LLanos\"\n",
    "print(\"Buenas Tardes\" + nombre)"
   ]
  },
  {
   "cell_type": "code",
   "execution_count": 23,
   "id": "75da856c",
   "metadata": {},
   "outputs": [
    {
     "name": "stdout",
     "output_type": "stream",
     "text": [
      "hola Mauricio LLanos ya se que tienes 21 años\n"
     ]
    }
   ],
   "source": [
    "#Utilizando el format()\n",
    "nombre = \"Mauricio LLanos\"\n",
    "edad = 21\n",
    "print (\"hola {} ya se que tienes {} años\".format(nombre,edad))"
   ]
  },
  {
   "cell_type": "code",
   "execution_count": 25,
   "id": "d58500af",
   "metadata": {},
   "outputs": [
    {
     "name": "stdout",
     "output_type": "stream",
     "text": [
      "10/3 es = 3.3333333333333335 \n",
      "10/3 es = 3.333 \n"
     ]
    }
   ],
   "source": [
    "#Dar formato a numeros con muchos decimales\n",
    "resultado = 10/3\n",
    "print(\"10/3 es = {} \".format(resultado))\n",
    "print(\"10/3 es = {r:1.3f} \".format(r=resultado))"
   ]
  },
  {
   "cell_type": "code",
   "execution_count": 26,
   "id": "15e8e915",
   "metadata": {},
   "outputs": [],
   "source": [
    "#Dar formato con f\n",
    "#La funcion F, esta disponible a partir de la version 3.6"
   ]
  },
  {
   "cell_type": "code",
   "execution_count": 27,
   "id": "b3b457ea",
   "metadata": {},
   "outputs": [
    {
     "name": "stdout",
     "output_type": "stream",
     "text": [
      "buenos dias Mauricio LLanos, ya se que tienes 21 años\n"
     ]
    }
   ],
   "source": [
    "nombre = \"Mauricio LLanos\"\n",
    "edad = 21\n",
    "print(f\"buenos dias {nombre}, ya se que tienes {edad} años\")"
   ]
  },
  {
   "cell_type": "code",
   "execution_count": 30,
   "id": "c9ccacd0",
   "metadata": {},
   "outputs": [
    {
     "name": "stdout",
     "output_type": "stream",
     "text": [
      "10/3 es =3.3333333333333335\n",
      "10/3 es = 3.333\n"
     ]
    }
   ],
   "source": [
    "#Dar formato con muchos decimales utilizando f\n",
    "resultado = 10/3\n",
    "print(f\"10/3 es ={resultado}\")\n",
    "print(f\"10/3 es = {resultado:1.3f}\" )"
   ]
  },
  {
   "cell_type": "code",
   "execution_count": null,
   "id": "edfad6cf",
   "metadata": {},
   "outputs": [],
   "source": []
  }
 ],
 "metadata": {
  "kernelspec": {
   "display_name": "Python 3 (ipykernel)",
   "language": "python",
   "name": "python3"
  },
  "language_info": {
   "codemirror_mode": {
    "name": "ipython",
    "version": 3
   },
   "file_extension": ".py",
   "mimetype": "text/x-python",
   "name": "python",
   "nbconvert_exporter": "python",
   "pygments_lexer": "ipython3",
   "version": "3.9.12"
  }
 },
 "nbformat": 4,
 "nbformat_minor": 5
}
