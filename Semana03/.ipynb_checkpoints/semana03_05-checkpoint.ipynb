{
 "cells": [
  {
   "cell_type": "markdown",
   "id": "4b015091",
   "metadata": {},
   "source": [
    "# SEMANA 03\n",
    "Mauricio LLanos"
   ]
  },
  {
   "cell_type": "markdown",
   "id": "69f4db11",
   "metadata": {},
   "source": [
    "5. Operaciones"
   ]
  },
  {
   "cell_type": "code",
   "execution_count": 1,
   "id": "080a646b",
   "metadata": {},
   "outputs": [],
   "source": [
    "#5.1 Operadores aritmeticos\n",
    "#Se tiene: +,-,*,/,**,%,//"
   ]
  },
  {
   "cell_type": "code",
   "execution_count": 5,
   "id": "564f26a4",
   "metadata": {},
   "outputs": [
    {
     "name": "stdout",
     "output_type": "stream",
     "text": [
      "13\n",
      "7\n",
      "30\n",
      "3.3333333333333335\n",
      "1\n",
      "3\n",
      "1000\n"
     ]
    }
   ],
   "source": [
    "numero1 =10\n",
    "numero2 = 3\n",
    "suma = numero1 + numero2\n",
    "resta = numero1 - numero2\n",
    "multiplicacion = numero1 * numero2\n",
    "division = numero1 / numero2\n",
    "residuo = numero1 % numero2\n",
    "cociente = numero1 // numero2\n",
    "potencia = numero1 ** numero2\n",
    "print(suma)\n",
    "print (resta)\n",
    "print(multiplicacion)\n",
    "print(division)\n",
    "print(residuo)\n",
    "print(cociente)\n",
    "print(potencia)"
   ]
  },
  {
   "cell_type": "code",
   "execution_count": 6,
   "id": "f2ce3635",
   "metadata": {},
   "outputs": [
    {
     "name": "stdout",
     "output_type": "stream",
     "text": [
      "8\n"
     ]
    }
   ],
   "source": [
    "#Operadores de Asignacion\n",
    "#Se tiene: =, +=, -=, *=,  /=, **=\n",
    "numero = 5\n",
    "numero +=3\n",
    "print(numero)"
   ]
  },
  {
   "cell_type": "code",
   "execution_count": 7,
   "id": "b41521e8",
   "metadata": {},
   "outputs": [
    {
     "name": "stdout",
     "output_type": "stream",
     "text": [
      "125\n"
     ]
    }
   ],
   "source": [
    "#Lo mismo se puede hacer con todos los casos, incluiso la potencia \n",
    "#veamos otro ejemplo:\n",
    "numero = 5\n",
    "numero = numero ** 3\n",
    "print(numero)"
   ]
  },
  {
   "cell_type": "code",
   "execution_count": 8,
   "id": "e8240536",
   "metadata": {},
   "outputs": [
    {
     "name": "stdout",
     "output_type": "stream",
     "text": [
      "125\n"
     ]
    }
   ],
   "source": [
    "#La operacion anterior tambien se puede expresar de la sigueitne manera:\n",
    "numero = 5\n",
    "numero = 5\n",
    "numero **=3\n",
    "print(numero)"
   ]
  },
  {
   "cell_type": "code",
   "execution_count": 9,
   "id": "67e8d441",
   "metadata": {},
   "outputs": [],
   "source": [
    "#5.3 Operadores de comparacion\n",
    "# Se tiene: ==, !=, <, >, <=, >=\n",
    "#Ejemplo de igualdad"
   ]
  },
  {
   "cell_type": "code",
   "execution_count": 11,
   "id": "6b7407a8",
   "metadata": {},
   "outputs": [
    {
     "data": {
      "text/plain": [
       "False"
      ]
     },
     "execution_count": 11,
     "metadata": {},
     "output_type": "execute_result"
    }
   ],
   "source": [
    "numero1 = 5\n",
    "numero2 = 2\n",
    "numero1 == numero2"
   ]
  },
  {
   "cell_type": "code",
   "execution_count": 12,
   "id": "6def333a",
   "metadata": {},
   "outputs": [
    {
     "data": {
      "text/plain": [
       "True"
      ]
     },
     "execution_count": 12,
     "metadata": {},
     "output_type": "execute_result"
    }
   ],
   "source": [
    "numero1 = \"Juan\"\n",
    "numero2 = \"Juan\"\n",
    "numero1 == numero2"
   ]
  },
  {
   "cell_type": "code",
   "execution_count": 14,
   "id": "d0707cfb",
   "metadata": {},
   "outputs": [],
   "source": [
    "#5.4 Operadores Logicos\n",
    "#Se tiene: and, or, not\n",
    "numero1 = 4\n",
    "numero2 = 8\n",
    "numero3 = 7\n",
    "numero4 = 3"
   ]
  },
  {
   "cell_type": "code",
   "execution_count": 15,
   "id": "f136398d",
   "metadata": {},
   "outputs": [
    {
     "data": {
      "text/plain": [
       "False"
      ]
     },
     "execution_count": 15,
     "metadata": {},
     "output_type": "execute_result"
    }
   ],
   "source": [
    "#El not invierte el resultado\n",
    "not(numero1 < numero2)"
   ]
  },
  {
   "cell_type": "code",
   "execution_count": 16,
   "id": "5d7cc14c",
   "metadata": {},
   "outputs": [
    {
     "data": {
      "text/plain": [
       "False"
      ]
     },
     "execution_count": 16,
     "metadata": {},
     "output_type": "execute_result"
    }
   ],
   "source": [
    "numero1<numero2 and numero3 < numero4"
   ]
  },
  {
   "cell_type": "code",
   "execution_count": 17,
   "id": "f70a9287",
   "metadata": {},
   "outputs": [
    {
     "data": {
      "text/plain": [
       "True"
      ]
     },
     "execution_count": 17,
     "metadata": {},
     "output_type": "execute_result"
    }
   ],
   "source": [
    "#Tambien podemos utilizar parentesis para ordenar tu operacion\n",
    "(numero1 < numero2 and numero3>numero4) or (numero1>numero4)"
   ]
  },
  {
   "cell_type": "code",
   "execution_count": null,
   "id": "1d8ba0a5",
   "metadata": {},
   "outputs": [],
   "source": []
  }
 ],
 "metadata": {
  "kernelspec": {
   "display_name": "Python 3 (ipykernel)",
   "language": "python",
   "name": "python3"
  },
  "language_info": {
   "codemirror_mode": {
    "name": "ipython",
    "version": 3
   },
   "file_extension": ".py",
   "mimetype": "text/x-python",
   "name": "python",
   "nbconvert_exporter": "python",
   "pygments_lexer": "ipython3",
   "version": "3.9.12"
  }
 },
 "nbformat": 4,
 "nbformat_minor": 5
}
