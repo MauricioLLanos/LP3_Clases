{
 "cells": [
  {
   "cell_type": "markdown",
   "id": "3179f15e",
   "metadata": {},
   "source": [
    "# Semana 03\n",
    "Mauricio LLanos"
   ]
  },
  {
   "cell_type": "markdown",
   "id": "c9e0af13",
   "metadata": {},
   "source": [
    "4.Ingreso de datos por el teclado"
   ]
  },
  {
   "cell_type": "code",
   "execution_count": 1,
   "id": "89542329",
   "metadata": {},
   "outputs": [
    {
     "name": "stdout",
     "output_type": "stream",
     "text": [
      "¿Cual es tu nombre?\n",
      "mauricio\n",
      "Hola mauricio\n"
     ]
    }
   ],
   "source": [
    "#Funcion input()\n",
    "print(\"¿Cual es tu nombre?\")\n",
    "nombre = input()\n",
    "print(\"Hola \"+ nombre)"
   ]
  },
  {
   "cell_type": "code",
   "execution_count": null,
   "id": "8f376315",
   "metadata": {},
   "outputs": [],
   "source": [
    "#Cuando ingresa un valor por teclado lo hace como cadena\n",
    "print(\"numero 1: \")\n",
    "numero1 = input()\n",
    "print(\"numero 2:\")\n",
    "numero2 = input()\n",
    "numero3 = input(numero1) + input(numero2)\n",
    "print(f\"El resultado es {numero3}\")"
   ]
  },
  {
   "cell_type": "code",
   "execution_count": null,
   "id": "d6607637",
   "metadata": {},
   "outputs": [],
   "source": []
  },
  {
   "cell_type": "code",
   "execution_count": null,
   "id": "f5243b64",
   "metadata": {},
   "outputs": [],
   "source": []
  }
 ],
 "metadata": {
  "kernelspec": {
   "display_name": "Python 3 (ipykernel)",
   "language": "python",
   "name": "python3"
  },
  "language_info": {
   "codemirror_mode": {
    "name": "ipython",
    "version": 3
   },
   "file_extension": ".py",
   "mimetype": "text/x-python",
   "name": "python",
   "nbconvert_exporter": "python",
   "pygments_lexer": "ipython3",
   "version": "3.9.12"
  }
 },
 "nbformat": 4,
 "nbformat_minor": 5
}
